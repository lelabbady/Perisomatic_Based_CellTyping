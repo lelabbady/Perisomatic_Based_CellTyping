{
 "cells": [
  {
   "cell_type": "markdown",
   "id": "9a74cb5f",
   "metadata": {},
   "source": [
    "# Searching for Rare CellTypes\n",
    "\n",
    "In this notebook we provide the code to search for the nearest neighbors of any cell of interest using the perisomatic feature space. Examples of this type of unsupervised search are highlighted in the two tutorial notebooks titled Searching for Rare Celltypes and illustrated in our analyses in Figure 6 of our accompanying manuscript.  "
   ]
  },
  {
   "cell_type": "code",
   "execution_count": null,
   "id": "bccad484",
   "metadata": {},
   "outputs": [],
   "source": [
    "import pandas as pd\n",
    "import numpy as np \n",
    "import pcg_skel\n",
    "import matplotlib.pyplot as plt\n",
    "import seaborn as sns\n",
    "from meshparty import meshwork\n",
    "import caveclient\n",
    "import numpy as np\n",
    "from meshparty import trimesh_io\n",
    "from nglui.statebuilder import *\n",
    "import skeleton_plot\n",
    "%matplotlib inline"
   ]
  },
  {
   "cell_type": "markdown",
   "id": "7824baa9",
   "metadata": {},
   "source": [
    "To start out, let's take a look at all the predicted inhibitory neurons in the dataset in the 2D UMAP embedding space. Note that this embedding only shows inhibitory neurons as it includes 120 Post-Synaptic Shape (PSS) features.\n",
    "\n",
    "The following plot shows all the predicted inhibitory neurons in gray with the manually labeled cortical column cells in color (Fig. 4)."
   ]
  },
  {
   "cell_type": "code",
   "execution_count": null,
   "id": "f523de8d",
   "metadata": {},
   "outputs": [],
   "source": [
    "df = pd.read_pickle('../../data/inhibitory_perisomatic_feats_v661.pkl')\n",
    "#df = df.reset_index(drop = True)"
   ]
  },
  {
   "cell_type": "markdown",
   "id": "94a84674",
   "metadata": {},
   "source": [
    "If you are interested in searching for a non-inhibitory cell type, uncomment the line of code to use microns_SomaData_AllCells_v661.pkl instead. Note that it has all the cells in the published dataset (Excitatory, inhibitory, and nonneurons)."
   ]
  },
  {
   "cell_type": "code",
   "execution_count": null,
   "id": "7fa318d4",
   "metadata": {},
   "outputs": [],
   "source": [
    "df = pd.read_pickle('../../data/microns_SomaData_AllCells_v661.pkl')"
   ]
  },
  {
   "cell_type": "code",
   "execution_count": null,
   "id": "0b53140c",
   "metadata": {},
   "outputs": [],
   "source": [
    "#Custom color palette\n",
    "color_dict = {'23P':'#8268DC',\n",
    "              '4P':'#647FDC',\n",
    "              '5P-IT':'#77BCDE',\n",
    "              '5P-ET':'#87DD90',\n",
    "              '5P-NP':'#85DEC9',\n",
    "              '6P-CT':'#96DD70',\n",
    "              '6P-IT':'#DCC86E',\n",
    "              'BC':'#D68C66',\n",
    "              'BPC':'#D3697C',\n",
    "              'MC':'#D36BBA',\n",
    "              'NGC':'#BC6BDB',\n",
    "              'astrocyte':'#009245',\n",
    "              'pericyte':'#754C24',\n",
    "              'microglia':'#006837',\n",
    "              'oligo':'#8CC63F',\n",
    "              'OPC':'#998675',\n",
    "              'error':'#899499'\n",
    "    \n",
    "}"
   ]
  },
  {
   "cell_type": "code",
   "execution_count": null,
   "id": "b82d29da",
   "metadata": {},
   "outputs": [],
   "source": [
    "f, ax =plt.subplots(figsize=(11,11), facecolor='white')\n",
    "\n",
    "sns.scatterplot( x='inhib_umap_embedding_x', y='inhib_umap_embedding_y', color='lightgray',\n",
    "                ax =ax, s=5, alpha=0.9, edgecolor=None, data=df, legend = True)\n",
    "\n",
    "sns.scatterplot( x='inhib_umap_embedding_x', y='inhib_umap_embedding_y', \n",
    "                ax =ax, s=60, alpha=1, hue='cortical_column_labels',style='cortical_column_labels',\n",
    "                palette=color_dict, legend = True,\n",
    "                c=(.2,.2,.2),edgecolor=None, data=df)\n",
    "\n",
    "ax.set_xlabel('UMAP X', fontsize=24)\n",
    "ax.set_ylabel('UMAP Y', fontsize=24)\n",
    "ax.set_xticks([])\n",
    "ax.set_yticks([])\n",
    "plt.show()"
   ]
  },
  {
   "cell_type": "markdown",
   "id": "14b9bfde",
   "metadata": {},
   "source": [
    "If you are using the entire dataset, you can visualize the 2D embedding of all the cells with the code below."
   ]
  },
  {
   "cell_type": "code",
   "execution_count": null,
   "id": "01376f26",
   "metadata": {},
   "outputs": [],
   "source": [
    "f, ax =plt.subplots(figsize=(11,11), facecolor='white')\n",
    "\n",
    "sns.scatterplot( x='umap_embedding_x', y='umap_embedding_y', color='lightgray',\n",
    "                ax =ax, s=1, alpha=0.9, edgecolor=None, data=df, legend = True)\n",
    "\n",
    "sns.scatterplot( x='umap_embedding_x', y='umap_embedding_y', \n",
    "                ax =ax, s=15, alpha=1, hue='cortical_column_labels',\n",
    "                palette=color_dict, legend = True,\n",
    "                c=(.2,.2,.2),edgecolor='white', data=df)\n",
    "\n",
    "ax.set_xlabel('UMAP X', fontsize=24)\n",
    "ax.set_ylabel('UMAP Y', fontsize=24)\n",
    "ax.set_xticks([])\n",
    "ax.set_yticks([])\n",
    "plt.show()"
   ]
  },
  {
   "cell_type": "markdown",
   "id": "852981ef",
   "metadata": {},
   "source": [
    "## Cells of Interest\n",
    "\n",
    "To search for cells you must have either a cell ID (pt_root_id) or a nucleus ID. The most robust ID is the nucleus ID as it does not change between different versions of the dataset. "
   ]
  },
  {
   "cell_type": "code",
   "execution_count": null,
   "id": "b9951f22",
   "metadata": {},
   "outputs": [],
   "source": [
    "#Setting up our client to access the data\n",
    "client = caveclient.CAVEclient('minnie65_phase3_v1')\n",
    "\n",
    "#client.materialize.get_tables()\n",
    "# #Our nucleus table with all cells with a soma within the dataset\n",
    "nuc_df = client.materialize.query_table('nucleus_detection_v0', split_positions=True, \n",
    "                                       desired_resolution=(1000,1000,1000))"
   ]
  },
  {
   "cell_type": "markdown",
   "id": "9f6ef2ce",
   "metadata": {},
   "source": [
    "If you have cell IDs"
   ]
  },
  {
   "cell_type": "code",
   "execution_count": null,
   "id": "395861cb",
   "metadata": {},
   "outputs": [],
   "source": [
    "df.columns"
   ]
  },
  {
   "cell_type": "code",
   "execution_count": null,
   "id": "b5a2f9ea",
   "metadata": {},
   "outputs": [],
   "source": [
    "cells = [] \n",
    "\n",
    "nuc_ids = nuc_df.query('pt_root_id in @cells').id.tolist()\n",
    "nuc_ids"
   ]
  },
  {
   "cell_type": "markdown",
   "id": "6c921442",
   "metadata": {},
   "source": [
    "If you have nucleus IDs"
   ]
  },
  {
   "cell_type": "code",
   "execution_count": null,
   "id": "a778dd95",
   "metadata": {},
   "outputs": [],
   "source": [
    "nuclei = [301101, 335537, 335521, 335691] \n",
    "nuc_ids = nuc_df.query('id in @nuclei').id.tolist()\n",
    "nuc_ids"
   ]
  },
  {
   "cell_type": "markdown",
   "id": "26475483",
   "metadata": {},
   "source": [
    "It is worth checking that the length of nuc_ids is the same as your cells of interest. If not it is possible that these IDs are out of date (if cell IDs) or that they did not pass the quality control steps outlined in our manuscript. \n",
    "\n",
    "Note: This is most relevant to nonneuronal cells and cells near the borders of the dataset since they were more likely to fail our QC protocol."
   ]
  },
  {
   "cell_type": "markdown",
   "id": "c2f2b109",
   "metadata": {},
   "source": [
    "### Selecting nearest neighbors\n",
    "\n",
    "Now that you have identified your cell of interest, let's try to find more. To do this we will use a KDTree graph based on the perisomatic features and select the top N nearest neighbors."
   ]
  },
  {
   "cell_type": "code",
   "execution_count": null,
   "id": "14b0dc3d",
   "metadata": {},
   "outputs": [],
   "source": [
    "from sklearn.neighbors import KDTree\n",
    "from sklearn import preprocessing"
   ]
  },
  {
   "cell_type": "code",
   "execution_count": null,
   "id": "8bcd25d4",
   "metadata": {},
   "outputs": [],
   "source": [
    "num_neighbors = 20 #number for neighbors to return - change this as needed!"
   ]
  },
  {
   "cell_type": "markdown",
   "id": "17ac9f45",
   "metadata": {},
   "source": [
    "Below is the code to select the relevant features, build the KDTree, and return the nearest neighbors. Be sure to use inhibitory_search() if you cell is an inhibitory neuron and allcell_search() if it is an excitatory or non-neuronal cell."
   ]
  },
  {
   "cell_type": "code",
   "execution_count": null,
   "id": "7c4bc9a0",
   "metadata": {},
   "outputs": [],
   "source": [
    "soma_metrics = [ 'soma_depth_y','nucleus_volume_um', 'nucleus_area_um', \n",
    "                'nuclear_area_to_volume_ratio', 'nuclear_folding_area_um', \n",
    "                'fraction_nuclear_folding', 'nucleus_to_soma_ratio', \n",
    "                'soma_volume_um', 'soma_area_um', 'soma_to_nucleus_center_dist', \n",
    "                'soma_area_to_volume_ratio', 'soma_synapse_number', 'soma_synapse_density_um']\n",
    "\n",
    "def allcell_search(root_cell_id, df,\n",
    "                   num_neighbors=num_neighbors,\n",
    "                   ct='All'):\n",
    "    if ct == 'Inhibitory': # will use the soma and post-synaptic features for inhibitory cells only\n",
    "        #Load the zscored perisomatic features for all predicted inhibitory cells\n",
    "        cell_features_normalized = np.load('../../data/inhibitory_normalized_perisomatic_features.npy')\n",
    "    else: # will use only the soma features for all cells\n",
    "        df = df.reset_index(drop=True) #reset index to avoid issues with KDTree\n",
    "        cell_features = df[soma_metrics].to_numpy() #convert to numpy array\n",
    "\n",
    "        #Normalize soma features\n",
    "        scaler=preprocessing.StandardScaler().fit(cell_features)\n",
    "        cell_features_normalized = scaler.transform(cell_features)\n",
    "\n",
    "    n_features = cell_features_normalized.shape[1]\n",
    "    \n",
    "    #KDTree on high dimensional feature space\n",
    "    kdt = KDTree(cell_features_normalized, leaf_size=30, metric='euclidean')\n",
    "\n",
    "    #Id of our cell of interest\n",
    "    idx = df.query('nucleus_id == @root_cell_id').index[0]\n",
    "    X = cell_features_normalized[idx,:].reshape(1,n_features) #corresponding feature vector for that cell\n",
    "\n",
    "    n_cells = cell_features_normalized.shape[0]\n",
    "\n",
    "    #Query for the top 20 nearest neighbors \n",
    "    _, all_idxs = kdt.query(X, k=n_cells, return_distance=True)\n",
    "    similar_idxs = all_idxs[0][:num_neighbors+1] #including the first one, which is the cell itself\n",
    "\n",
    "    similar_neurons = df.soma_id.iloc[similar_idxs].tolist()\n",
    "    similar_neuron_nuc_ids = df.nucleus_id.iloc[similar_idxs].tolist()\n",
    "\n",
    "    return similar_neurons, similar_neuron_nuc_ids"
   ]
  },
  {
   "cell_type": "markdown",
   "id": "76723843",
   "metadata": {},
   "source": [
    "If searching for an inhibitory cell set cell_type='Inhibitory' in the code below\n",
    "\n",
    "If searching for an excitatory or non-neuronal cell change cell_type='All' in the code below"
   ]
  },
  {
   "cell_type": "code",
   "execution_count": null,
   "id": "d6ffdb38",
   "metadata": {},
   "outputs": [],
   "source": [
    "cell_type = 'All'\n",
    "similar_dict = {}\n",
    "for nuc in nuc_ids:\n",
    "    print(\"Nucleus ID of interest:\", nuc)\n",
    "    similar_dict[nuc]={}\n",
    "    similar_cells, similar_nuc_ids = allcell_search(nuc, df,\n",
    "                                                    num_neighbors=num_neighbors,\n",
    "                                                    ct=cell_type)\n",
    "    similar_dict[nuc]['soma_ids'] = similar_cells\n",
    "    similar_dict[nuc]['nuc_ids'] = similar_nuc_ids\n",
    "    print(\"\\n\")\n",
    "\n",
    "print(similar_dict)"
   ]
  },
  {
   "cell_type": "markdown",
   "id": "0ff898d2",
   "metadata": {},
   "source": [
    "If we plot these nearest neighbors in the 2D UMAP embedding space we can see where in this feature space these cells are coming from. Note that the nearest neighbors were selected from the high dimensional feature space not the 2D embedding."
   ]
  },
  {
   "cell_type": "code",
   "execution_count": null,
   "id": "e249a932",
   "metadata": {},
   "outputs": [],
   "source": [
    "import math"
   ]
  },
  {
   "cell_type": "code",
   "execution_count": null,
   "id": "dda579c8",
   "metadata": {},
   "outputs": [],
   "source": [
    "if cell_type == 'Inhibitory':\n",
    "        title_str = f'Inhibitory cells similar to nuc_id {nuc}'\n",
    "        x_embed = 'inhib_umap_embedding_x'\n",
    "        y_embed = 'inhib_umap_embedding_y'\n",
    "else:\n",
    "    title_str = f'Cells similar to nuc_id {nuc}'\n",
    "    x_embed = 'umap_embedding_x'\n",
    "    y_embed = 'umap_embedding_y'\n",
    "    \n",
    "    \n",
    "num_plots = len(nuc_ids)\n",
    "cols = 2  # Number of columns in the grid\n",
    "rows = math.ceil(num_plots / cols)  # Calculate the number of rows needed\n",
    "\n",
    "fig, axes = plt.subplots(rows, cols, figsize=(8 * cols, 8 * rows), facecolor='white')\n",
    "axes = axes.flatten()  # Flatten the axes array for easier indexing\n",
    "\n",
    "for i, nuc in enumerate(nuc_ids):\n",
    "    ax = axes[i]\n",
    "    similar_nuc_ids = similar_dict[nuc]['nuc_ids']\n",
    "\n",
    "    sns.scatterplot(x=x_embed, y=y_embed, color='lightgray',\n",
    "                    ax=ax, s=1, alpha=0.9, edgecolor=None, data=df, legend=False)\n",
    "\n",
    "    sns.scatterplot(x=x_embed, y=y_embed,\n",
    "                    ax=ax, alpha=0.7, color='orange', edgecolor=None,\n",
    "                    s=10, data=df.query('nucleus_id in @similar_nuc_ids'))\n",
    "    \n",
    "    sns.scatterplot(x=x_embed, y=y_embed,\n",
    "                    ax=ax, alpha=1, color='navajowhite', edgecolor='black',\n",
    "                    s=20, data=df.query('nucleus_id == @nuc'))\n",
    "\n",
    "    ax.set_xlabel('UMAP X')\n",
    "    ax.set_ylabel('UMAP Y')\n",
    "    ax.set_title(f'Nucleus ID: {nuc}')\n",
    "\n",
    "# Hide any unused subplots\n",
    "for j in range(i + 1, len(axes)):\n",
    "    fig.delaxes(axes[j])\n",
    "\n",
    "plt.tight_layout()\n",
    "plt.show()\n",
    "\n",
    "\n",
    "    "
   ]
  },
  {
   "cell_type": "code",
   "execution_count": null,
   "id": "3ba7a426",
   "metadata": {},
   "outputs": [],
   "source": []
  },
  {
   "cell_type": "code",
   "execution_count": null,
   "id": "a3df7816",
   "metadata": {},
   "outputs": [],
   "source": []
  }
 ],
 "metadata": {
  "kernelspec": {
   "display_name": "micronsbinder",
   "language": "python",
   "name": "python3"
  },
  "language_info": {
   "codemirror_mode": {
    "name": "ipython",
    "version": 3
   },
   "file_extension": ".py",
   "mimetype": "text/x-python",
   "name": "python",
   "nbconvert_exporter": "python",
   "pygments_lexer": "ipython3",
   "version": "3.7.10"
  }
 },
 "nbformat": 4,
 "nbformat_minor": 5
}
